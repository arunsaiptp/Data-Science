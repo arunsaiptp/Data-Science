{
  "nbformat": 4,
  "nbformat_minor": 0,
  "metadata": {
    "kernelspec": {
      "display_name": "Python 3",
      "language": "python",
      "name": "python3"
    },
    "language_info": {
      "codemirror_mode": {
        "name": "ipython",
        "version": 3
      },
      "file_extension": ".py",
      "mimetype": "text/x-python",
      "name": "python",
      "nbconvert_exporter": "python",
      "pygments_lexer": "ipython3",
      "version": "3.7.1"
    },
    "colab": {
      "name": "Capstone Project Notebook.ipynb",
      "provenance": [],
      "include_colab_link": true
    }
  },
  "cells": [
    {
      "cell_type": "markdown",
      "metadata": {
        "id": "view-in-github",
        "colab_type": "text"
      },
      "source": [
        "<a href=\"https://colab.research.google.com/github/arunsaiptp/Data-Science/blob/main/Capstone_Project_Notebook.ipynb\" target=\"_parent\"><img src=\"https://colab.research.google.com/assets/colab-badge.svg\" alt=\"Open In Colab\"/></a>"
      ]
    },
    {
      "cell_type": "markdown",
      "metadata": {
        "id": "csiiIRriMmhi"
      },
      "source": [
        "<h1><center>Applied Data Science Capstone</center></h1>\n",
        "\n",
        "Notebook for the capstone project from course __[Applied Data Science Capstone by IBM on Coursera](https://www.coursera.org/learn/applied-data-science-capstone/home/info)__"
      ]
    },
    {
      "cell_type": "markdown",
      "metadata": {
        "id": "pm7jOs03Mmhz"
      },
      "source": [
        "### Import libraries\n",
        "Lets first import the required libraries."
      ]
    },
    {
      "cell_type": "code",
      "metadata": {
        "id": "bgrvgBK1Mmh0"
      },
      "source": [
        "import pandas as pd\n",
        "import numpy as np"
      ],
      "execution_count": 1,
      "outputs": []
    },
    {
      "cell_type": "markdown",
      "metadata": {
        "id": "qbyo8RmiMmh2"
      },
      "source": [
        "<h1 id=\"random_generated_dataset\">Simple Test</h1>\n",
        "Lets do a simple test to validate our environment. "
      ]
    },
    {
      "cell_type": "code",
      "metadata": {
        "colab": {
          "base_uri": "https://localhost:8080/"
        },
        "id": "406tEisRMmh2",
        "outputId": "752eb9cb-29b5-4412-b7e8-bc63d6851c70"
      },
      "source": [
        "print('Hello Capstone Project Course!')"
      ],
      "execution_count": 2,
      "outputs": [
        {
          "output_type": "stream",
          "text": [
            "Hello Capstone Project Course!\n"
          ],
          "name": "stdout"
        }
      ]
    },
    {
      "cell_type": "code",
      "metadata": {
        "id": "jkArFBzjMmh5"
      },
      "source": [
        ""
      ],
      "execution_count": null,
      "outputs": []
    }
  ]
}